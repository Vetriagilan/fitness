{
  "cells": [
    {
      "cell_type": "code",
      "execution_count": 4,
      "metadata": {
        "id": "ywtHzp1wF3Yo"
      },
      "outputs": [],
      "source": [
        "import pandas as pd\n",
        "import numpy as np\n",
        "import matplotlib.pyplot as plt\n",
        "df=pd.read_csv(\"gym_members_exercise_tracking_synthetic_data.csv\")"
      ]
    },
    {
      "cell_type": "code",
      "execution_count": 5,
      "metadata": {
        "colab": {
          "base_uri": "https://localhost:8080/",
          "height": 243
        },
        "id": "sxVfmq60JDdD",
        "outputId": "e079808d-1442-44aa-f495-1581efed13c3"
      },
      "outputs": [
        {
          "data": {
            "text/html": [
              "<div>\n",
              "<style scoped>\n",
              "    .dataframe tbody tr th:only-of-type {\n",
              "        vertical-align: middle;\n",
              "    }\n",
              "\n",
              "    .dataframe tbody tr th {\n",
              "        vertical-align: top;\n",
              "    }\n",
              "\n",
              "    .dataframe thead th {\n",
              "        text-align: right;\n",
              "    }\n",
              "</style>\n",
              "<table border=\"1\" class=\"dataframe\">\n",
              "  <thead>\n",
              "    <tr style=\"text-align: right;\">\n",
              "      <th></th>\n",
              "      <th>Age</th>\n",
              "      <th>Gender</th>\n",
              "      <th>Weight (kg)</th>\n",
              "      <th>Height (m)</th>\n",
              "      <th>Max_BPM</th>\n",
              "      <th>Avg_BPM</th>\n",
              "      <th>Resting_BPM</th>\n",
              "      <th>Session_Duration (hours)</th>\n",
              "      <th>Calories_Burned</th>\n",
              "      <th>Workout_Type</th>\n",
              "      <th>Fat_Percentage</th>\n",
              "      <th>Water_Intake (liters)</th>\n",
              "      <th>Workout_Frequency (days/week)</th>\n",
              "      <th>Experience_Level</th>\n",
              "      <th>BMI</th>\n",
              "    </tr>\n",
              "  </thead>\n",
              "  <tbody>\n",
              "    <tr>\n",
              "      <th>0</th>\n",
              "      <td>34.0</td>\n",
              "      <td>Female</td>\n",
              "      <td>86.7</td>\n",
              "      <td>1.86</td>\n",
              "      <td>174</td>\n",
              "      <td>152.0</td>\n",
              "      <td>74.0</td>\n",
              "      <td>1.12</td>\n",
              "      <td>712.0</td>\n",
              "      <td>Strength</td>\n",
              "      <td>12.8</td>\n",
              "      <td>2.4</td>\n",
              "      <td>5.0</td>\n",
              "      <td>2.0</td>\n",
              "      <td>14.31</td>\n",
              "    </tr>\n",
              "    <tr>\n",
              "      <th>1</th>\n",
              "      <td>26.0</td>\n",
              "      <td>Female</td>\n",
              "      <td>84.7</td>\n",
              "      <td>1.83</td>\n",
              "      <td>166</td>\n",
              "      <td>156.0</td>\n",
              "      <td>73.0</td>\n",
              "      <td>1.00</td>\n",
              "      <td>833.0</td>\n",
              "      <td>Strength</td>\n",
              "      <td>27.9</td>\n",
              "      <td>2.8</td>\n",
              "      <td>5.0</td>\n",
              "      <td>2.0</td>\n",
              "      <td>33.49</td>\n",
              "    </tr>\n",
              "    <tr>\n",
              "      <th>2</th>\n",
              "      <td>22.0</td>\n",
              "      <td>Male</td>\n",
              "      <td>64.8</td>\n",
              "      <td>1.85</td>\n",
              "      <td>187</td>\n",
              "      <td>166.0</td>\n",
              "      <td>64.0</td>\n",
              "      <td>1.24</td>\n",
              "      <td>1678.0</td>\n",
              "      <td>Cardio</td>\n",
              "      <td>28.7</td>\n",
              "      <td>1.9</td>\n",
              "      <td>3.0</td>\n",
              "      <td>2.0</td>\n",
              "      <td>12.73</td>\n",
              "    </tr>\n",
              "    <tr>\n",
              "      <th>3</th>\n",
              "      <td>54.0</td>\n",
              "      <td>Female</td>\n",
              "      <td>75.3</td>\n",
              "      <td>1.82</td>\n",
              "      <td>187</td>\n",
              "      <td>169.0</td>\n",
              "      <td>58.0</td>\n",
              "      <td>1.45</td>\n",
              "      <td>628.0</td>\n",
              "      <td>Cardio</td>\n",
              "      <td>31.8</td>\n",
              "      <td>2.4</td>\n",
              "      <td>4.0</td>\n",
              "      <td>1.0</td>\n",
              "      <td>20.37</td>\n",
              "    </tr>\n",
              "    <tr>\n",
              "      <th>4</th>\n",
              "      <td>34.0</td>\n",
              "      <td>Female</td>\n",
              "      <td>52.8</td>\n",
              "      <td>1.74</td>\n",
              "      <td>177</td>\n",
              "      <td>169.0</td>\n",
              "      <td>66.0</td>\n",
              "      <td>1.60</td>\n",
              "      <td>1286.0</td>\n",
              "      <td>Strength</td>\n",
              "      <td>26.4</td>\n",
              "      <td>3.2</td>\n",
              "      <td>4.0</td>\n",
              "      <td>2.0</td>\n",
              "      <td>20.83</td>\n",
              "    </tr>\n",
              "  </tbody>\n",
              "</table>\n",
              "</div>"
            ],
            "text/plain": [
              "    Age  Gender  Weight (kg)  Height (m) Max_BPM  Avg_BPM  Resting_BPM  \\\n",
              "0  34.0  Female         86.7        1.86     174    152.0         74.0   \n",
              "1  26.0  Female         84.7        1.83     166    156.0         73.0   \n",
              "2  22.0    Male         64.8        1.85     187    166.0         64.0   \n",
              "3  54.0  Female         75.3        1.82     187    169.0         58.0   \n",
              "4  34.0  Female         52.8        1.74     177    169.0         66.0   \n",
              "\n",
              "   Session_Duration (hours)  Calories_Burned Workout_Type  Fat_Percentage  \\\n",
              "0                      1.12            712.0     Strength            12.8   \n",
              "1                      1.00            833.0     Strength            27.9   \n",
              "2                      1.24           1678.0       Cardio            28.7   \n",
              "3                      1.45            628.0       Cardio            31.8   \n",
              "4                      1.60           1286.0     Strength            26.4   \n",
              "\n",
              "   Water_Intake (liters)  Workout_Frequency (days/week)  Experience_Level  \\\n",
              "0                    2.4                            5.0               2.0   \n",
              "1                    2.8                            5.0               2.0   \n",
              "2                    1.9                            3.0               2.0   \n",
              "3                    2.4                            4.0               1.0   \n",
              "4                    3.2                            4.0               2.0   \n",
              "\n",
              "     BMI  \n",
              "0  14.31  \n",
              "1  33.49  \n",
              "2  12.73  \n",
              "3  20.37  \n",
              "4  20.83  "
            ]
          },
          "execution_count": 5,
          "metadata": {},
          "output_type": "execute_result"
        }
      ],
      "source": [
        "df.head()"
      ]
    },
    {
      "cell_type": "code",
      "execution_count": 6,
      "metadata": {
        "colab": {
          "base_uri": "https://localhost:8080/"
        },
        "id": "QPIhXeF2LzTT",
        "outputId": "883ff97a-5c1f-4dcd-f305-346e66a170ee"
      },
      "outputs": [
        {
          "data": {
            "text/plain": [
              "(1800, 15)"
            ]
          },
          "execution_count": 6,
          "metadata": {},
          "output_type": "execute_result"
        }
      ],
      "source": [
        "df.shape"
      ]
    },
    {
      "cell_type": "code",
      "execution_count": 7,
      "metadata": {
        "colab": {
          "base_uri": "https://localhost:8080/"
        },
        "id": "PTOSePtiL0iU",
        "outputId": "d1d67434-062c-4ff0-bf63-cec761ea2f86"
      },
      "outputs": [
        {
          "data": {
            "text/plain": [
              "Index(['Age', 'Gender', 'Weight (kg)', 'Height (m)', 'Max_BPM', 'Avg_BPM',\n",
              "       'Resting_BPM', 'Session_Duration (hours)', 'Calories_Burned',\n",
              "       'Workout_Type', 'Fat_Percentage', 'Water_Intake (liters)',\n",
              "       'Workout_Frequency (days/week)', 'Experience_Level', 'BMI'],\n",
              "      dtype='object')"
            ]
          },
          "execution_count": 7,
          "metadata": {},
          "output_type": "execute_result"
        }
      ],
      "source": [
        "df.columns"
      ]
    },
    {
      "cell_type": "code",
      "execution_count": 8,
      "metadata": {
        "colab": {
          "base_uri": "https://localhost:8080/"
        },
        "id": "4fOjzkNKL4q_",
        "outputId": "ece7a76d-14fd-4539-d2d3-4879697b8594"
      },
      "outputs": [
        {
          "name": "stdout",
          "output_type": "stream",
          "text": [
            "<class 'pandas.core.frame.DataFrame'>\n",
            "RangeIndex: 1800 entries, 0 to 1799\n",
            "Data columns (total 15 columns):\n",
            " #   Column                         Non-Null Count  Dtype  \n",
            "---  ------                         --------------  -----  \n",
            " 0   Age                            1790 non-null   float64\n",
            " 1   Gender                         1729 non-null   object \n",
            " 2   Weight (kg)                    1778 non-null   float64\n",
            " 3   Height (m)                     1774 non-null   float64\n",
            " 4   Max_BPM                        1779 non-null   object \n",
            " 5   Avg_BPM                        1770 non-null   float64\n",
            " 6   Resting_BPM                    1781 non-null   float64\n",
            " 7   Session_Duration (hours)       1777 non-null   float64\n",
            " 8   Calories_Burned                1777 non-null   float64\n",
            " 9   Workout_Type                   1739 non-null   object \n",
            " 10  Fat_Percentage                 1784 non-null   float64\n",
            " 11  Water_Intake (liters)          1776 non-null   float64\n",
            " 12  Workout_Frequency (days/week)  1742 non-null   float64\n",
            " 13  Experience_Level               1743 non-null   float64\n",
            " 14  BMI                            1770 non-null   float64\n",
            "dtypes: float64(12), object(3)\n",
            "memory usage: 211.1+ KB\n"
          ]
        }
      ],
      "source": [
        "df.info()"
      ]
    },
    {
      "cell_type": "code",
      "execution_count": 9,
      "metadata": {
        "colab": {
          "base_uri": "https://localhost:8080/",
          "height": 337
        },
        "id": "9W8HT6BFL-jQ",
        "outputId": "49ba7c7a-cc6c-4f06-9699-c83a26737be7"
      },
      "outputs": [
        {
          "data": {
            "text/html": [
              "<div>\n",
              "<style scoped>\n",
              "    .dataframe tbody tr th:only-of-type {\n",
              "        vertical-align: middle;\n",
              "    }\n",
              "\n",
              "    .dataframe tbody tr th {\n",
              "        vertical-align: top;\n",
              "    }\n",
              "\n",
              "    .dataframe thead th {\n",
              "        text-align: right;\n",
              "    }\n",
              "</style>\n",
              "<table border=\"1\" class=\"dataframe\">\n",
              "  <thead>\n",
              "    <tr style=\"text-align: right;\">\n",
              "      <th></th>\n",
              "      <th>Age</th>\n",
              "      <th>Weight (kg)</th>\n",
              "      <th>Height (m)</th>\n",
              "      <th>Avg_BPM</th>\n",
              "      <th>Resting_BPM</th>\n",
              "      <th>Session_Duration (hours)</th>\n",
              "      <th>Calories_Burned</th>\n",
              "      <th>Fat_Percentage</th>\n",
              "      <th>Water_Intake (liters)</th>\n",
              "      <th>Workout_Frequency (days/week)</th>\n",
              "      <th>Experience_Level</th>\n",
              "      <th>BMI</th>\n",
              "    </tr>\n",
              "  </thead>\n",
              "  <tbody>\n",
              "    <tr>\n",
              "      <th>count</th>\n",
              "      <td>1790.000000</td>\n",
              "      <td>1778.000000</td>\n",
              "      <td>1774.000000</td>\n",
              "      <td>1770.000000</td>\n",
              "      <td>1781.000000</td>\n",
              "      <td>1777.000000</td>\n",
              "      <td>1777.000000</td>\n",
              "      <td>1784.000000</td>\n",
              "      <td>1776.000000</td>\n",
              "      <td>1742.000000</td>\n",
              "      <td>1743.000000</td>\n",
              "      <td>1770.000000</td>\n",
              "    </tr>\n",
              "    <tr>\n",
              "      <th>mean</th>\n",
              "      <td>34.475419</td>\n",
              "      <td>67.606637</td>\n",
              "      <td>1.739233</td>\n",
              "      <td>146.259322</td>\n",
              "      <td>63.951151</td>\n",
              "      <td>1.391598</td>\n",
              "      <td>1033.698931</td>\n",
              "      <td>23.509361</td>\n",
              "      <td>2.706644</td>\n",
              "      <td>3.339265</td>\n",
              "      <td>1.823867</td>\n",
              "      <td>19.957774</td>\n",
              "    </tr>\n",
              "    <tr>\n",
              "      <th>std</th>\n",
              "      <td>12.315728</td>\n",
              "      <td>19.861408</td>\n",
              "      <td>0.123892</td>\n",
              "      <td>15.219516</td>\n",
              "      <td>7.936502</td>\n",
              "      <td>0.372342</td>\n",
              "      <td>328.049662</td>\n",
              "      <td>5.865557</td>\n",
              "      <td>0.710224</td>\n",
              "      <td>0.947955</td>\n",
              "      <td>0.746568</td>\n",
              "      <td>6.573175</td>\n",
              "    </tr>\n",
              "    <tr>\n",
              "      <th>min</th>\n",
              "      <td>18.000000</td>\n",
              "      <td>40.000000</td>\n",
              "      <td>1.500000</td>\n",
              "      <td>120.000000</td>\n",
              "      <td>50.000000</td>\n",
              "      <td>0.500000</td>\n",
              "      <td>303.000000</td>\n",
              "      <td>10.000000</td>\n",
              "      <td>1.500000</td>\n",
              "      <td>2.000000</td>\n",
              "      <td>1.000000</td>\n",
              "      <td>12.320000</td>\n",
              "    </tr>\n",
              "    <tr>\n",
              "      <th>25%</th>\n",
              "      <td>23.000000</td>\n",
              "      <td>52.300000</td>\n",
              "      <td>1.650000</td>\n",
              "      <td>133.250000</td>\n",
              "      <td>57.000000</td>\n",
              "      <td>1.130000</td>\n",
              "      <td>794.000000</td>\n",
              "      <td>20.500000</td>\n",
              "      <td>2.100000</td>\n",
              "      <td>3.000000</td>\n",
              "      <td>1.000000</td>\n",
              "      <td>14.780000</td>\n",
              "    </tr>\n",
              "    <tr>\n",
              "      <th>50%</th>\n",
              "      <td>33.000000</td>\n",
              "      <td>65.300000</td>\n",
              "      <td>1.730000</td>\n",
              "      <td>146.000000</td>\n",
              "      <td>65.000000</td>\n",
              "      <td>1.370000</td>\n",
              "      <td>1030.000000</td>\n",
              "      <td>24.300000</td>\n",
              "      <td>2.800000</td>\n",
              "      <td>3.000000</td>\n",
              "      <td>2.000000</td>\n",
              "      <td>18.690000</td>\n",
              "    </tr>\n",
              "    <tr>\n",
              "      <th>75%</th>\n",
              "      <td>45.000000</td>\n",
              "      <td>80.100000</td>\n",
              "      <td>1.820000</td>\n",
              "      <td>160.000000</td>\n",
              "      <td>72.000000</td>\n",
              "      <td>1.640000</td>\n",
              "      <td>1249.000000</td>\n",
              "      <td>27.500000</td>\n",
              "      <td>3.400000</td>\n",
              "      <td>4.000000</td>\n",
              "      <td>2.000000</td>\n",
              "      <td>23.517500</td>\n",
              "    </tr>\n",
              "    <tr>\n",
              "      <th>max</th>\n",
              "      <td>59.000000</td>\n",
              "      <td>129.900000</td>\n",
              "      <td>2.000000</td>\n",
              "      <td>169.000000</td>\n",
              "      <td>74.000000</td>\n",
              "      <td>2.000000</td>\n",
              "      <td>1783.000000</td>\n",
              "      <td>35.000000</td>\n",
              "      <td>3.700000</td>\n",
              "      <td>5.000000</td>\n",
              "      <td>3.000000</td>\n",
              "      <td>49.840000</td>\n",
              "    </tr>\n",
              "  </tbody>\n",
              "</table>\n",
              "</div>"
            ],
            "text/plain": [
              "               Age  Weight (kg)   Height (m)      Avg_BPM  Resting_BPM  \\\n",
              "count  1790.000000  1778.000000  1774.000000  1770.000000  1781.000000   \n",
              "mean     34.475419    67.606637     1.739233   146.259322    63.951151   \n",
              "std      12.315728    19.861408     0.123892    15.219516     7.936502   \n",
              "min      18.000000    40.000000     1.500000   120.000000    50.000000   \n",
              "25%      23.000000    52.300000     1.650000   133.250000    57.000000   \n",
              "50%      33.000000    65.300000     1.730000   146.000000    65.000000   \n",
              "75%      45.000000    80.100000     1.820000   160.000000    72.000000   \n",
              "max      59.000000   129.900000     2.000000   169.000000    74.000000   \n",
              "\n",
              "       Session_Duration (hours)  Calories_Burned  Fat_Percentage  \\\n",
              "count               1777.000000      1777.000000     1784.000000   \n",
              "mean                   1.391598      1033.698931       23.509361   \n",
              "std                    0.372342       328.049662        5.865557   \n",
              "min                    0.500000       303.000000       10.000000   \n",
              "25%                    1.130000       794.000000       20.500000   \n",
              "50%                    1.370000      1030.000000       24.300000   \n",
              "75%                    1.640000      1249.000000       27.500000   \n",
              "max                    2.000000      1783.000000       35.000000   \n",
              "\n",
              "       Water_Intake (liters)  Workout_Frequency (days/week)  Experience_Level  \\\n",
              "count            1776.000000                    1742.000000       1743.000000   \n",
              "mean                2.706644                       3.339265          1.823867   \n",
              "std                 0.710224                       0.947955          0.746568   \n",
              "min                 1.500000                       2.000000          1.000000   \n",
              "25%                 2.100000                       3.000000          1.000000   \n",
              "50%                 2.800000                       3.000000          2.000000   \n",
              "75%                 3.400000                       4.000000          2.000000   \n",
              "max                 3.700000                       5.000000          3.000000   \n",
              "\n",
              "               BMI  \n",
              "count  1770.000000  \n",
              "mean     19.957774  \n",
              "std       6.573175  \n",
              "min      12.320000  \n",
              "25%      14.780000  \n",
              "50%      18.690000  \n",
              "75%      23.517500  \n",
              "max      49.840000  "
            ]
          },
          "execution_count": 9,
          "metadata": {},
          "output_type": "execute_result"
        }
      ],
      "source": [
        "df.describe()"
      ]
    },
    {
      "cell_type": "code",
      "execution_count": 10,
      "metadata": {
        "colab": {
          "base_uri": "https://localhost:8080/",
          "height": 461
        },
        "id": "68q4u0NmMKYu",
        "outputId": "13d68003-cc31-4dd5-c523-a59a0c015eeb"
      },
      "outputs": [
        {
          "data": {
            "text/html": [
              "<div>\n",
              "<style scoped>\n",
              "    .dataframe tbody tr th:only-of-type {\n",
              "        vertical-align: middle;\n",
              "    }\n",
              "\n",
              "    .dataframe tbody tr th {\n",
              "        vertical-align: top;\n",
              "    }\n",
              "\n",
              "    .dataframe thead th {\n",
              "        text-align: right;\n",
              "    }\n",
              "</style>\n",
              "<table border=\"1\" class=\"dataframe\">\n",
              "  <thead>\n",
              "    <tr style=\"text-align: right;\">\n",
              "      <th></th>\n",
              "      <th>Age</th>\n",
              "      <th>Gender</th>\n",
              "      <th>Weight (kg)</th>\n",
              "      <th>Height (m)</th>\n",
              "      <th>Max_BPM</th>\n",
              "      <th>Avg_BPM</th>\n",
              "      <th>Resting_BPM</th>\n",
              "      <th>Session_Duration (hours)</th>\n",
              "      <th>Calories_Burned</th>\n",
              "      <th>Workout_Type</th>\n",
              "      <th>Fat_Percentage</th>\n",
              "      <th>Water_Intake (liters)</th>\n",
              "      <th>Workout_Frequency (days/week)</th>\n",
              "      <th>Experience_Level</th>\n",
              "      <th>BMI</th>\n",
              "    </tr>\n",
              "  </thead>\n",
              "  <tbody>\n",
              "    <tr>\n",
              "      <th>0</th>\n",
              "      <td>False</td>\n",
              "      <td>False</td>\n",
              "      <td>False</td>\n",
              "      <td>False</td>\n",
              "      <td>False</td>\n",
              "      <td>False</td>\n",
              "      <td>False</td>\n",
              "      <td>False</td>\n",
              "      <td>False</td>\n",
              "      <td>False</td>\n",
              "      <td>False</td>\n",
              "      <td>False</td>\n",
              "      <td>False</td>\n",
              "      <td>False</td>\n",
              "      <td>False</td>\n",
              "    </tr>\n",
              "    <tr>\n",
              "      <th>1</th>\n",
              "      <td>False</td>\n",
              "      <td>False</td>\n",
              "      <td>False</td>\n",
              "      <td>False</td>\n",
              "      <td>False</td>\n",
              "      <td>False</td>\n",
              "      <td>False</td>\n",
              "      <td>False</td>\n",
              "      <td>False</td>\n",
              "      <td>False</td>\n",
              "      <td>False</td>\n",
              "      <td>False</td>\n",
              "      <td>False</td>\n",
              "      <td>False</td>\n",
              "      <td>False</td>\n",
              "    </tr>\n",
              "    <tr>\n",
              "      <th>2</th>\n",
              "      <td>False</td>\n",
              "      <td>False</td>\n",
              "      <td>False</td>\n",
              "      <td>False</td>\n",
              "      <td>False</td>\n",
              "      <td>False</td>\n",
              "      <td>False</td>\n",
              "      <td>False</td>\n",
              "      <td>False</td>\n",
              "      <td>False</td>\n",
              "      <td>False</td>\n",
              "      <td>False</td>\n",
              "      <td>False</td>\n",
              "      <td>False</td>\n",
              "      <td>False</td>\n",
              "    </tr>\n",
              "    <tr>\n",
              "      <th>3</th>\n",
              "      <td>False</td>\n",
              "      <td>False</td>\n",
              "      <td>False</td>\n",
              "      <td>False</td>\n",
              "      <td>False</td>\n",
              "      <td>False</td>\n",
              "      <td>False</td>\n",
              "      <td>False</td>\n",
              "      <td>False</td>\n",
              "      <td>False</td>\n",
              "      <td>False</td>\n",
              "      <td>False</td>\n",
              "      <td>False</td>\n",
              "      <td>False</td>\n",
              "      <td>False</td>\n",
              "    </tr>\n",
              "    <tr>\n",
              "      <th>4</th>\n",
              "      <td>False</td>\n",
              "      <td>False</td>\n",
              "      <td>False</td>\n",
              "      <td>False</td>\n",
              "      <td>False</td>\n",
              "      <td>False</td>\n",
              "      <td>False</td>\n",
              "      <td>False</td>\n",
              "      <td>False</td>\n",
              "      <td>False</td>\n",
              "      <td>False</td>\n",
              "      <td>False</td>\n",
              "      <td>False</td>\n",
              "      <td>False</td>\n",
              "      <td>False</td>\n",
              "    </tr>\n",
              "    <tr>\n",
              "      <th>...</th>\n",
              "      <td>...</td>\n",
              "      <td>...</td>\n",
              "      <td>...</td>\n",
              "      <td>...</td>\n",
              "      <td>...</td>\n",
              "      <td>...</td>\n",
              "      <td>...</td>\n",
              "      <td>...</td>\n",
              "      <td>...</td>\n",
              "      <td>...</td>\n",
              "      <td>...</td>\n",
              "      <td>...</td>\n",
              "      <td>...</td>\n",
              "      <td>...</td>\n",
              "      <td>...</td>\n",
              "    </tr>\n",
              "    <tr>\n",
              "      <th>1795</th>\n",
              "      <td>False</td>\n",
              "      <td>False</td>\n",
              "      <td>False</td>\n",
              "      <td>False</td>\n",
              "      <td>False</td>\n",
              "      <td>False</td>\n",
              "      <td>False</td>\n",
              "      <td>False</td>\n",
              "      <td>False</td>\n",
              "      <td>False</td>\n",
              "      <td>False</td>\n",
              "      <td>False</td>\n",
              "      <td>False</td>\n",
              "      <td>False</td>\n",
              "      <td>False</td>\n",
              "    </tr>\n",
              "    <tr>\n",
              "      <th>1796</th>\n",
              "      <td>False</td>\n",
              "      <td>False</td>\n",
              "      <td>False</td>\n",
              "      <td>False</td>\n",
              "      <td>False</td>\n",
              "      <td>False</td>\n",
              "      <td>False</td>\n",
              "      <td>False</td>\n",
              "      <td>False</td>\n",
              "      <td>False</td>\n",
              "      <td>False</td>\n",
              "      <td>False</td>\n",
              "      <td>False</td>\n",
              "      <td>False</td>\n",
              "      <td>False</td>\n",
              "    </tr>\n",
              "    <tr>\n",
              "      <th>1797</th>\n",
              "      <td>False</td>\n",
              "      <td>False</td>\n",
              "      <td>False</td>\n",
              "      <td>False</td>\n",
              "      <td>False</td>\n",
              "      <td>False</td>\n",
              "      <td>False</td>\n",
              "      <td>False</td>\n",
              "      <td>False</td>\n",
              "      <td>False</td>\n",
              "      <td>False</td>\n",
              "      <td>False</td>\n",
              "      <td>False</td>\n",
              "      <td>False</td>\n",
              "      <td>False</td>\n",
              "    </tr>\n",
              "    <tr>\n",
              "      <th>1798</th>\n",
              "      <td>False</td>\n",
              "      <td>False</td>\n",
              "      <td>False</td>\n",
              "      <td>False</td>\n",
              "      <td>False</td>\n",
              "      <td>False</td>\n",
              "      <td>False</td>\n",
              "      <td>False</td>\n",
              "      <td>False</td>\n",
              "      <td>False</td>\n",
              "      <td>False</td>\n",
              "      <td>False</td>\n",
              "      <td>False</td>\n",
              "      <td>False</td>\n",
              "      <td>False</td>\n",
              "    </tr>\n",
              "    <tr>\n",
              "      <th>1799</th>\n",
              "      <td>False</td>\n",
              "      <td>False</td>\n",
              "      <td>False</td>\n",
              "      <td>False</td>\n",
              "      <td>False</td>\n",
              "      <td>False</td>\n",
              "      <td>False</td>\n",
              "      <td>False</td>\n",
              "      <td>False</td>\n",
              "      <td>False</td>\n",
              "      <td>False</td>\n",
              "      <td>False</td>\n",
              "      <td>False</td>\n",
              "      <td>False</td>\n",
              "      <td>False</td>\n",
              "    </tr>\n",
              "  </tbody>\n",
              "</table>\n",
              "<p>1800 rows × 15 columns</p>\n",
              "</div>"
            ],
            "text/plain": [
              "        Age  Gender  Weight (kg)  Height (m)  Max_BPM  Avg_BPM  Resting_BPM  \\\n",
              "0     False   False        False       False    False    False        False   \n",
              "1     False   False        False       False    False    False        False   \n",
              "2     False   False        False       False    False    False        False   \n",
              "3     False   False        False       False    False    False        False   \n",
              "4     False   False        False       False    False    False        False   \n",
              "...     ...     ...          ...         ...      ...      ...          ...   \n",
              "1795  False   False        False       False    False    False        False   \n",
              "1796  False   False        False       False    False    False        False   \n",
              "1797  False   False        False       False    False    False        False   \n",
              "1798  False   False        False       False    False    False        False   \n",
              "1799  False   False        False       False    False    False        False   \n",
              "\n",
              "      Session_Duration (hours)  Calories_Burned  Workout_Type  Fat_Percentage  \\\n",
              "0                        False            False         False           False   \n",
              "1                        False            False         False           False   \n",
              "2                        False            False         False           False   \n",
              "3                        False            False         False           False   \n",
              "4                        False            False         False           False   \n",
              "...                        ...              ...           ...             ...   \n",
              "1795                     False            False         False           False   \n",
              "1796                     False            False         False           False   \n",
              "1797                     False            False         False           False   \n",
              "1798                     False            False         False           False   \n",
              "1799                     False            False         False           False   \n",
              "\n",
              "      Water_Intake (liters)  Workout_Frequency (days/week)  Experience_Level  \\\n",
              "0                     False                          False             False   \n",
              "1                     False                          False             False   \n",
              "2                     False                          False             False   \n",
              "3                     False                          False             False   \n",
              "4                     False                          False             False   \n",
              "...                     ...                            ...               ...   \n",
              "1795                  False                          False             False   \n",
              "1796                  False                          False             False   \n",
              "1797                  False                          False             False   \n",
              "1798                  False                          False             False   \n",
              "1799                  False                          False             False   \n",
              "\n",
              "        BMI  \n",
              "0     False  \n",
              "1     False  \n",
              "2     False  \n",
              "3     False  \n",
              "4     False  \n",
              "...     ...  \n",
              "1795  False  \n",
              "1796  False  \n",
              "1797  False  \n",
              "1798  False  \n",
              "1799  False  \n",
              "\n",
              "[1800 rows x 15 columns]"
            ]
          },
          "execution_count": 10,
          "metadata": {},
          "output_type": "execute_result"
        }
      ],
      "source": [
        "df.isnull()"
      ]
    },
    {
      "cell_type": "code",
      "execution_count": 11,
      "metadata": {
        "colab": {
          "base_uri": "https://localhost:8080/",
          "height": 554
        },
        "id": "L0yms91eNPKq",
        "outputId": "9dd09f8a-1117-4996-c2d1-a0d0b92f8a07"
      },
      "outputs": [
        {
          "data": {
            "text/plain": [
              "Age                              10\n",
              "Gender                           71\n",
              "Weight (kg)                      22\n",
              "Height (m)                       26\n",
              "Max_BPM                          21\n",
              "Avg_BPM                          30\n",
              "Resting_BPM                      19\n",
              "Session_Duration (hours)         23\n",
              "Calories_Burned                  23\n",
              "Workout_Type                     61\n",
              "Fat_Percentage                   16\n",
              "Water_Intake (liters)            24\n",
              "Workout_Frequency (days/week)    58\n",
              "Experience_Level                 57\n",
              "BMI                              30\n",
              "dtype: int64"
            ]
          },
          "execution_count": 11,
          "metadata": {},
          "output_type": "execute_result"
        }
      ],
      "source": [
        "df.isnull().sum()"
      ]
    },
    {
      "cell_type": "code",
      "execution_count": 12,
      "metadata": {
        "id": "ug_r03QxNo1p"
      },
      "outputs": [],
      "source": [
        "df = df.fillna(df.select_dtypes(include=np.number).mean())"
      ]
    },
    {
      "cell_type": "code",
      "execution_count": 13,
      "metadata": {
        "colab": {
          "base_uri": "https://localhost:8080/",
          "height": 554
        },
        "id": "7e0211e4",
        "outputId": "91f7aec6-17bc-40e2-ff9c-f12187123019"
      },
      "outputs": [
        {
          "data": {
            "text/plain": [
              "Age                               0\n",
              "Gender                           71\n",
              "Weight (kg)                       0\n",
              "Height (m)                        0\n",
              "Max_BPM                          21\n",
              "Avg_BPM                           0\n",
              "Resting_BPM                       0\n",
              "Session_Duration (hours)          0\n",
              "Calories_Burned                   0\n",
              "Workout_Type                     61\n",
              "Fat_Percentage                    0\n",
              "Water_Intake (liters)             0\n",
              "Workout_Frequency (days/week)     0\n",
              "Experience_Level                  0\n",
              "BMI                               0\n",
              "dtype: int64"
            ]
          },
          "metadata": {},
          "output_type": "display_data"
        }
      ],
      "source": [
        "display(df.isnull().sum())"
      ]
    },
    {
      "cell_type": "code",
      "execution_count": 14,
      "metadata": {
        "colab": {
          "base_uri": "https://localhost:8080/",
          "height": 178
        },
        "id": "93cdedd0",
        "outputId": "80c01df8-2ffd-4eba-9540-d53a74ee0d93"
      },
      "outputs": [
        {
          "data": {
            "text/plain": [
              "Gender          71\n",
              "Max_BPM         21\n",
              "Workout_Type    61\n",
              "dtype: int64"
            ]
          },
          "execution_count": 14,
          "metadata": {},
          "output_type": "execute_result"
        }
      ],
      "source": [
        "str_null=df[df.select_dtypes(include='object').columns].isnull().sum()\n",
        "str_null"
      ]
    },
    {
      "cell_type": "code",
      "execution_count": 15,
      "metadata": {
        "id": "2AxBvKPTUma9"
      },
      "outputs": [],
      "source": [
        "df=df.fillna(df.select_dtypes(include='object').mode())"
      ]
    },
    {
      "cell_type": "code",
      "execution_count": 16,
      "metadata": {
        "colab": {
          "base_uri": "https://localhost:8080/",
          "height": 554
        },
        "id": "gJwD9BI9VULM",
        "outputId": "fa811540-3466-4bbe-8dd4-c64d9b8c82ee"
      },
      "outputs": [
        {
          "data": {
            "text/plain": [
              "Age                               0\n",
              "Gender                           71\n",
              "Weight (kg)                       0\n",
              "Height (m)                        0\n",
              "Max_BPM                          21\n",
              "Avg_BPM                           0\n",
              "Resting_BPM                       0\n",
              "Session_Duration (hours)          0\n",
              "Calories_Burned                   0\n",
              "Workout_Type                     61\n",
              "Fat_Percentage                    0\n",
              "Water_Intake (liters)             0\n",
              "Workout_Frequency (days/week)     0\n",
              "Experience_Level                  0\n",
              "BMI                               0\n",
              "dtype: int64"
            ]
          },
          "metadata": {},
          "output_type": "display_data"
        }
      ],
      "source": [
        "display(df.isnull().sum())"
      ]
    },
    {
      "cell_type": "code",
      "execution_count": 17,
      "metadata": {
        "colab": {
          "base_uri": "https://localhost:8080/",
          "height": 554
        },
        "id": "kQ3ReljObCKp",
        "outputId": "a6f04ab9-efe5-4ae0-dc12-c7ff4e8e85de"
      },
      "outputs": [
        {
          "data": {
            "text/plain": [
              "Age                               0\n",
              "Gender                           71\n",
              "Weight (kg)                       0\n",
              "Height (m)                        0\n",
              "Max_BPM                           0\n",
              "Avg_BPM                           0\n",
              "Resting_BPM                       0\n",
              "Session_Duration (hours)          0\n",
              "Calories_Burned                   0\n",
              "Workout_Type                     61\n",
              "Fat_Percentage                    0\n",
              "Water_Intake (liters)             0\n",
              "Workout_Frequency (days/week)     0\n",
              "Experience_Level                  0\n",
              "BMI                               0\n",
              "dtype: int64"
            ]
          },
          "metadata": {},
          "output_type": "display_data"
        }
      ],
      "source": [
        "\n",
        "df['Max_BPM'] = df['Max_BPM'].fillna(df['Max_BPM'].mode()[0])\n",
        "display(df.isnull().sum())"
      ]
    },
    {
      "cell_type": "code",
      "execution_count": 18,
      "metadata": {
        "id": "PytXldddc3MQ"
      },
      "outputs": [],
      "source": [
        "df['Gender']=df['Gender'].fillna(df['Gender'].mode()[0])\n",
        "df['Workout_Type']=df['Workout_Type'].fillna(df['Workout_Type'].mode()[0])"
      ]
    },
    {
      "cell_type": "code",
      "execution_count": 19,
      "metadata": {
        "colab": {
          "base_uri": "https://localhost:8080/",
          "height": 554
        },
        "id": "jbO-5YdSbZWR",
        "outputId": "3bd0e600-d000-4e67-c368-da6f4e27d022"
      },
      "outputs": [
        {
          "data": {
            "text/plain": [
              "Age                              0\n",
              "Gender                           0\n",
              "Weight (kg)                      0\n",
              "Height (m)                       0\n",
              "Max_BPM                          0\n",
              "Avg_BPM                          0\n",
              "Resting_BPM                      0\n",
              "Session_Duration (hours)         0\n",
              "Calories_Burned                  0\n",
              "Workout_Type                     0\n",
              "Fat_Percentage                   0\n",
              "Water_Intake (liters)            0\n",
              "Workout_Frequency (days/week)    0\n",
              "Experience_Level                 0\n",
              "BMI                              0\n",
              "dtype: int64"
            ]
          },
          "execution_count": 19,
          "metadata": {},
          "output_type": "execute_result"
        }
      ],
      "source": [
        "df.isnull().sum()"
      ]
    },
    {
      "cell_type": "code",
      "execution_count": 20,
      "metadata": {
        "colab": {
          "base_uri": "https://localhost:8080/",
          "height": 527
        },
        "id": "yYjWbL7Mg5HW",
        "outputId": "a72f937a-12cb-49f7-8c43-0fa6e2421865"
      },
      "outputs": [
        {
          "data": {
            "text/plain": [
              "Age   Gender  Weight (kg)  Height (m)  Max_BPM  Avg_BPM  Resting_BPM  Session_Duration (hours)  Calories_Burned  Workout_Type  Fat_Percentage  Water_Intake (liters)  Workout_Frequency (days/week)  Experience_Level  BMI  \n",
              "18.0  Female  40.0         1.56        196      149.0    56.0         0.79                      1027.0           Strength      27.6            1.9                    2.000000                       1.0               12.98    1\n",
              "                           1.66        190      147.0    50.0         1.60                      1287.0           Cardio        27.6            1.9                    5.000000                       3.0               22.99    1\n",
              "                           1.68        163      137.0    61.0         1.10                      1470.0           Cardio        31.7            1.7                    4.000000                       3.0               19.34    1\n",
              "                                       178      147.0    71.0         2.00                      831.0            HIIT          17.3            3.5                    4.000000                       1.0               24.89    1\n",
              "                           1.74        160      145.0    74.0         0.53                      907.0            Strength      24.8            3.6                    3.339265                       3.0               24.44    1\n",
              "                                                                                                                                                                                                                               ..\n",
              "59.0  Male    70.2         1.77        172      124.0    68.0         1.47                      1069.0           Cardio        21.4            3.5                    4.000000                       1.0               40.19    1\n",
              "              71.8         1.50        165      152.0    74.0         1.94                      758.0            Yoga          28.9            3.3                    3.000000                       1.0               16.87    1\n",
              "              79.3         1.79        198      162.0    74.0         1.78                      933.0            Strength      25.2            2.7                    4.000000                       2.0               16.00    1\n",
              "              82.0         1.51        185      121.0    70.0         1.82                      625.0            Strength      28.5            2.2                    4.000000                       3.0               24.72    1\n",
              "              108.3        1.53        183      122.0    50.0         0.86                      1071.0           HIIT          21.9            3.3                    3.000000                       1.0               17.75    1\n",
              "Name: count, Length: 1800, dtype: int64"
            ]
          },
          "execution_count": 20,
          "metadata": {},
          "output_type": "execute_result"
        }
      ],
      "source": [
        "df.value_counts()"
      ]
    },
    {
      "cell_type": "markdown",
      "metadata": {
        "id": "7282GrmTmtIw"
      },
      "source": [
        "common Workout_Type and Gender"
      ]
    },
    {
      "cell_type": "code",
      "execution_count": 21,
      "metadata": {
        "colab": {
          "base_uri": "https://localhost:8080/",
          "height": 147
        },
        "id": "JrJ_ZanpiEaW",
        "outputId": "50a87eda-f280-437d-e415-409a8c86f4df"
      },
      "outputs": [
        {
          "data": {
            "text/plain": [
              "Workout_Type  Gender\n",
              "Strength      Female    264\n",
              "Name: count, dtype: int64"
            ]
          },
          "execution_count": 21,
          "metadata": {},
          "output_type": "execute_result"
        }
      ],
      "source": [
        "df[['Workout_Type','Gender']].value_counts().head(1)"
      ]
    },
    {
      "cell_type": "markdown",
      "metadata": {
        "id": "GGBr64zbnQHS"
      },
      "source": [
        "averge BMI and Fat percentage"
      ]
    },
    {
      "cell_type": "code",
      "execution_count": 22,
      "metadata": {
        "colab": {
          "base_uri": "https://localhost:8080/",
          "height": 147
        },
        "id": "szO62zu0m3zI",
        "outputId": "7d36efde-de3c-4de6-ffb1-bd6898f4dfbd"
      },
      "outputs": [
        {
          "data": {
            "text/plain": [
              "BMI               19.957774\n",
              "Fat_Percentage    23.509361\n",
              "dtype: float64"
            ]
          },
          "execution_count": 22,
          "metadata": {},
          "output_type": "execute_result"
        }
      ],
      "source": [
        "df[['BMI','Fat_Percentage']].mean()"
      ]
    },
    {
      "cell_type": "markdown",
      "metadata": {
        "id": "RDFNlGDMpPbT"
      },
      "source": [
        "variance and std deviation"
      ]
    },
    {
      "cell_type": "code",
      "execution_count": 23,
      "metadata": {
        "colab": {
          "base_uri": "https://localhost:8080/",
          "height": 460
        },
        "id": "nnU7lFTwnXkI",
        "outputId": "4b63d138-24d4-4bb8-bb2d-fff5bea2199f"
      },
      "outputs": [
        {
          "data": {
            "text/plain": [
              "Age                                 150.834029\n",
              "Weight (kg)                         389.651474\n",
              "Height (m)                            0.015127\n",
              "Avg_BPM                             227.770968\n",
              "Resting_BPM                          62.322818\n",
              "Session_Duration (hours)              0.136866\n",
              "Calories_Burned                  106240.715913\n",
              "Fat_Percentage                       34.098774\n",
              "Water_Intake (liters)                 0.497688\n",
              "Workout_Frequency (days/week)         0.869647\n",
              "Experience_Level                      0.539704\n",
              "BMI                                  42.486116\n",
              "dtype: float64"
            ]
          },
          "metadata": {},
          "output_type": "display_data"
        }
      ],
      "source": [
        "display(df.select_dtypes(include=np.number).var())"
      ]
    },
    {
      "cell_type": "code",
      "execution_count": 24,
      "metadata": {
        "colab": {
          "base_uri": "https://localhost:8080/",
          "height": 460
        },
        "id": "tTVqV6qAn61R",
        "outputId": "8fc84c10-8827-4a01-dbe1-6b62437cabfb"
      },
      "outputs": [
        {
          "data": {
            "text/plain": [
              "Age                               12.281451\n",
              "Weight (kg)                       19.739592\n",
              "Height (m)                         0.122993\n",
              "Avg_BPM                           15.092083\n",
              "Resting_BPM                        7.894480\n",
              "Session_Duration (hours)           0.369954\n",
              "Calories_Burned                  325.945879\n",
              "Fat_Percentage                     5.839416\n",
              "Water_Intake (liters)              0.705470\n",
              "Workout_Frequency (days/week)      0.932548\n",
              "Experience_Level                   0.734645\n",
              "BMI                                6.518137\n",
              "dtype: float64"
            ]
          },
          "metadata": {},
          "output_type": "display_data"
        }
      ],
      "source": [
        "display(df.select_dtypes(include=np.number).std())"
      ]
    },
    {
      "cell_type": "markdown",
      "metadata": {
        "id": "z4wHsXuoq7UH"
      },
      "source": [
        "countplot for gender"
      ]
    },
    {
      "cell_type": "code",
      "execution_count": 25,
      "metadata": {
        "colab": {
          "base_uri": "https://localhost:8080/",
          "height": 449
        },
        "id": "TabgDP_NpZCh",
        "outputId": "5809be21-f06b-477e-862f-7a91e902c179"
      },
      "outputs": [
        {
          "data": {
            "image/png": "[encoded data removed]",
            "text/plain": [
              "<Figure size 640x480 with 1 Axes>"
            ]
          },
          "metadata": {},
          "output_type": "display_data"
        }
      ],
      "source": [
        "import seaborn as sns\n",
        "sns.countplot(x='Gender',data=df)\n",
        "plt.show()"
      ]
    },
    {
      "cell_type": "markdown",
      "metadata": {
        "id": "2pKktX3yru9T"
      },
      "source": [
        "histogram"
      ]
    },
    {
      "cell_type": "code",
      "execution_count": 26,
      "metadata": {
        "colab": {
          "base_uri": "https://localhost:8080/",
          "height": 472
        },
        "id": "j-8Hy2rHq-J_",
        "outputId": "9ddeb801-b635-4451-825c-63a826d70453"
      },
      "outputs": [
        {
          "data": {
            "image/png": "[encoded data removed]",
            "text/plain": [
              "<Figure size 640x480 with 1 Axes>"
            ]
          },
          "metadata": {},
          "output_type": "display_data"
        }
      ],
      "source": [
        "plt.hist(df['Age'],bins=40)\n",
        "plt.xlabel('Age')\n",
        "plt.ylabel('Frequency')\n",
        "plt.title('Distribution of age')\n",
        "plt.show()"
      ]
    },
    {
      "cell_type": "code",
      "execution_count": 27,
      "metadata": {
        "colab": {
          "base_uri": "https://localhost:8080/",
          "height": 472
        },
        "id": "EmdK1cuWryOf",
        "outputId": "4393a16c-ef55-49f9-fff4-50e62cf24b23"
      },
      "outputs": [
        {
          "data": {
            "image/png": "[encoded data removed]",
            "text/plain": [
              "<Figure size 640x480 with 1 Axes>"
            ]
          },
          "metadata": {},
          "output_type": "display_data"
        }
      ],
      "source": [
        "plt.hist(df[\"BMI\"],bins=40,color='orange')\n",
        "plt.xlabel('BMI')\n",
        "plt.ylabel('Frequency')\n",
        "plt.title('Distribution of BMI')\n",
        "plt.show()"
      ]
    },
    {
      "cell_type": "markdown",
      "metadata": {
        "id": "K957fIbI5BbD"
      },
      "source": [
        "scatter plot"
      ]
    },
    {
      "cell_type": "code",
      "execution_count": 28,
      "metadata": {
        "colab": {
          "base_uri": "https://localhost:8080/",
          "height": 472
        },
        "id": "Hhhb8K4fsROT",
        "outputId": "5733f3c6-c730-4465-b9b8-edcaf240ee51"
      },
      "outputs": [
        {
          "data": {
            "image/png": "[encoded data removed]",
            "text/plain": [
              "<Figure size 640x480 with 1 Axes>"
            ]
          },
          "metadata": {},
          "output_type": "display_data"
        }
      ],
      "source": [
        "plt.scatter(df['Calories_Burned'],df['Session_Duration (hours)'])\n",
        "plt.xlabel('Calories Burned')\n",
        "plt.ylabel('Session Duration (hours)')\n",
        "plt.title('Calories Burned vs Session Duration')\n",
        "plt.show()"
      ]
    },
    {
      "cell_type": "markdown",
      "metadata": {
        "id": "vDzj-laO4_td"
      },
      "source": [
        "boxplot"
      ]
    },
    {
      "cell_type": "code",
      "execution_count": 37,
      "metadata": {
        "colab": {
          "base_uri": "https://localhost:8080/",
          "height": 472
        },
        "id": "69ruQ-Q31Q19",
        "outputId": "bf188464-cc0e-484e-b082-0e200d8f9dfe"
      },
      "outputs": [
        {
          "data": {
            "image/png": "[encoded data removed]",
            "text/plain": [
              "<Figure size 640x480 with 1 Axes>"
            ]
          },
          "metadata": {},
          "output_type": "display_data"
        }
      ],
      "source": [
        "import seaborn as sns\n",
        "sns.boxplot(x='Gender', y='Workout_Frequency (days/week)', data=df)\n",
        "plt.title('Workout Frequency by Gender')\n",
        "plt.show()"
      ]
    },
    {
      "cell_type": "markdown",
      "metadata": {
        "id": "LvpIB3KZ2n5M"
      },
      "source": [
        "correlation"
      ]
    },
    {
      "cell_type": "code",
      "execution_count": 30,
      "metadata": {
        "colab": {
          "base_uri": "https://localhost:8080/",
          "height": 596
        },
        "id": "PI3-kJKL2piO",
        "outputId": "96af1a4d-c177-4dd0-9698-cc7e798b7938"
      },
      "outputs": [
        {
          "data": {
            "image/png": "[encoded data removed]",
            "text/plain": [
              "<Figure size 640x480 with 2 Axes>"
            ]
          },
          "metadata": {},
          "output_type": "display_data"
        }
      ],
      "source": [
        "import seaborn as sns\n",
        "import matplotlib.pyplot as plt\n",
        "corr = df[['Age','Weight (kg)','Height (m)','Session_Duration (hours)','Calories_Burned','Avg_BPM']].corr()\n",
        "sns.heatmap(corr,cmap='coolwarm', annot=True)\n",
        "plt.show()"
      ]
    },
    {
      "cell_type": "code",
      "execution_count": 31,
      "metadata": {
        "colab": {
          "base_uri": "https://localhost:8080/",
          "height": 300
        },
        "id": "7ANnQesc2kpn",
        "outputId": "a2ada922-551a-4d70-f7e5-ee21748010f3"
      },
      "outputs": [
        {
          "data": {
            "text/html": [
              "<div>\n",
              "<style scoped>\n",
              "    .dataframe tbody tr th:only-of-type {\n",
              "        vertical-align: middle;\n",
              "    }\n",
              "\n",
              "    .dataframe tbody tr th {\n",
              "        vertical-align: top;\n",
              "    }\n",
              "\n",
              "    .dataframe thead th {\n",
              "        text-align: right;\n",
              "    }\n",
              "</style>\n",
              "<table border=\"1\" class=\"dataframe\">\n",
              "  <thead>\n",
              "    <tr style=\"text-align: right;\">\n",
              "      <th></th>\n",
              "      <th>Calories_Burned</th>\n",
              "      <th>BMI</th>\n",
              "      <th>Fat_Percentage</th>\n",
              "      <th>Water_Intake (liters)</th>\n",
              "    </tr>\n",
              "    <tr>\n",
              "      <th>Workout_Type</th>\n",
              "      <th></th>\n",
              "      <th></th>\n",
              "      <th></th>\n",
              "      <th></th>\n",
              "    </tr>\n",
              "  </thead>\n",
              "  <tbody>\n",
              "    <tr>\n",
              "      <th>Cardio</th>\n",
              "      <td>1045.239247</td>\n",
              "      <td>19.527991</td>\n",
              "      <td>23.734645</td>\n",
              "      <td>2.745856</td>\n",
              "    </tr>\n",
              "    <tr>\n",
              "      <th>HIIT</th>\n",
              "      <td>1005.295105</td>\n",
              "      <td>19.767255</td>\n",
              "      <td>23.818043</td>\n",
              "      <td>2.715801</td>\n",
              "    </tr>\n",
              "    <tr>\n",
              "      <th>Strength</th>\n",
              "      <td>1018.203216</td>\n",
              "      <td>20.424671</td>\n",
              "      <td>23.607190</td>\n",
              "      <td>2.691136</td>\n",
              "    </tr>\n",
              "    <tr>\n",
              "      <th>Yoga</th>\n",
              "      <td>1065.873397</td>\n",
              "      <td>20.085767</td>\n",
              "      <td>22.919831</td>\n",
              "      <td>2.675859</td>\n",
              "    </tr>\n",
              "    <tr>\n",
              "      <th>\\nStrength</th>\n",
              "      <td>912.916667</td>\n",
              "      <td>16.383333</td>\n",
              "      <td>23.066667</td>\n",
              "      <td>2.608333</td>\n",
              "    </tr>\n",
              "    <tr>\n",
              "      <th>\\tCardio</th>\n",
              "      <td>1143.454545</td>\n",
              "      <td>21.048889</td>\n",
              "      <td>24.518182</td>\n",
              "      <td>2.827273</td>\n",
              "    </tr>\n",
              "    <tr>\n",
              "      <th>\\tYoga</th>\n",
              "      <td>1115.000000</td>\n",
              "      <td>18.901000</td>\n",
              "      <td>21.200000</td>\n",
              "      <td>2.780000</td>\n",
              "    </tr>\n",
              "  </tbody>\n",
              "</table>\n",
              "</div>"
            ],
            "text/plain": [
              "              Calories_Burned        BMI  Fat_Percentage  \\\n",
              "Workout_Type                                               \n",
              "Cardio            1045.239247  19.527991       23.734645   \n",
              "HIIT              1005.295105  19.767255       23.818043   \n",
              "Strength          1018.203216  20.424671       23.607190   \n",
              "Yoga              1065.873397  20.085767       22.919831   \n",
              "\\nStrength         912.916667  16.383333       23.066667   \n",
              "\\tCardio          1143.454545  21.048889       24.518182   \n",
              "\\tYoga            1115.000000  18.901000       21.200000   \n",
              "\n",
              "              Water_Intake (liters)  \n",
              "Workout_Type                         \n",
              "Cardio                     2.745856  \n",
              "HIIT                       2.715801  \n",
              "Strength                   2.691136  \n",
              "Yoga                       2.675859  \n",
              "\\nStrength                 2.608333  \n",
              "\\tCardio                   2.827273  \n",
              "\\tYoga                     2.780000  "
            ]
          },
          "metadata": {},
          "output_type": "display_data"
        }
      ],
      "source": [
        "display(df.groupby('Workout_Type')[['Calories_Burned', 'BMI','Fat_Percentage','Water_Intake (liters)']].mean())"
      ]
    },
    {
      "cell_type": "code",
      "execution_count": 32,
      "metadata": {
        "colab": {
          "base_uri": "https://localhost:8080/",
          "height": 143
        },
        "id": "-r38U-qP58wt",
        "outputId": "40fc4364-25c1-49e1-884f-ecdeb7cc6451"
      },
      "outputs": [
        {
          "data": {
            "text/html": [
              "<div>\n",
              "<style scoped>\n",
              "    .dataframe tbody tr th:only-of-type {\n",
              "        vertical-align: middle;\n",
              "    }\n",
              "\n",
              "    .dataframe tbody tr th {\n",
              "        vertical-align: top;\n",
              "    }\n",
              "\n",
              "    .dataframe thead th {\n",
              "        text-align: right;\n",
              "    }\n",
              "</style>\n",
              "<table border=\"1\" class=\"dataframe\">\n",
              "  <thead>\n",
              "    <tr style=\"text-align: right;\">\n",
              "      <th></th>\n",
              "      <th>Calories_Burned</th>\n",
              "    </tr>\n",
              "    <tr>\n",
              "      <th>Gender</th>\n",
              "      <th></th>\n",
              "    </tr>\n",
              "  </thead>\n",
              "  <tbody>\n",
              "    <tr>\n",
              "      <th>Female</th>\n",
              "      <td>1016.735721</td>\n",
              "    </tr>\n",
              "    <tr>\n",
              "      <th>Male</th>\n",
              "      <td>1052.364400</td>\n",
              "    </tr>\n",
              "  </tbody>\n",
              "</table>\n",
              "</div>"
            ],
            "text/plain": [
              "        Calories_Burned\n",
              "Gender                 \n",
              "Female      1016.735721\n",
              "Male        1052.364400"
            ]
          },
          "execution_count": 32,
          "metadata": {},
          "output_type": "execute_result"
        }
      ],
      "source": [
        "df.groupby('Gender')[['Calories_Burned']].mean()"
      ]
    },
    {
      "cell_type": "markdown",
      "metadata": {
        "id": "hngW5mVg6ymq"
      },
      "source": [
        "feature extraction"
      ]
    },
    {
      "cell_type": "code",
      "execution_count": 33,
      "metadata": {
        "colab": {
          "base_uri": "https://localhost:8080/",
          "height": 243
        },
        "id": "EDF5Iawf6GeN",
        "outputId": "4e684ad6-f99c-46b6-dfe4-1b9fc57c81b4"
      },
      "outputs": [
        {
          "data": {
            "text/html": [
              "<div>\n",
              "<style scoped>\n",
              "    .dataframe tbody tr th:only-of-type {\n",
              "        vertical-align: middle;\n",
              "    }\n",
              "\n",
              "    .dataframe tbody tr th {\n",
              "        vertical-align: top;\n",
              "    }\n",
              "\n",
              "    .dataframe thead th {\n",
              "        text-align: right;\n",
              "    }\n",
              "</style>\n",
              "<table border=\"1\" class=\"dataframe\">\n",
              "  <thead>\n",
              "    <tr style=\"text-align: right;\">\n",
              "      <th></th>\n",
              "      <th>Age</th>\n",
              "      <th>Gender</th>\n",
              "      <th>Weight (kg)</th>\n",
              "      <th>Height (m)</th>\n",
              "      <th>Max_BPM</th>\n",
              "      <th>Avg_BPM</th>\n",
              "      <th>Resting_BPM</th>\n",
              "      <th>Session_Duration (hours)</th>\n",
              "      <th>Calories_Burned</th>\n",
              "      <th>Workout_Type</th>\n",
              "      <th>Fat_Percentage</th>\n",
              "      <th>Water_Intake (liters)</th>\n",
              "      <th>Workout_Frequency (days/week)</th>\n",
              "      <th>Experience_Level</th>\n",
              "      <th>BMI</th>\n",
              "      <th>Heart_rate_range</th>\n",
              "    </tr>\n",
              "  </thead>\n",
              "  <tbody>\n",
              "    <tr>\n",
              "      <th>0</th>\n",
              "      <td>34.0</td>\n",
              "      <td>Female</td>\n",
              "      <td>86.7</td>\n",
              "      <td>1.86</td>\n",
              "      <td>174.0</td>\n",
              "      <td>152.0</td>\n",
              "      <td>74.0</td>\n",
              "      <td>1.12</td>\n",
              "      <td>712.0</td>\n",
              "      <td>Strength</td>\n",
              "      <td>12.8</td>\n",
              "      <td>2.4</td>\n",
              "      <td>5.0</td>\n",
              "      <td>2.0</td>\n",
              "      <td>14.31</td>\n",
              "      <td>100.0</td>\n",
              "    </tr>\n",
              "    <tr>\n",
              "      <th>1</th>\n",
              "      <td>26.0</td>\n",
              "      <td>Female</td>\n",
              "      <td>84.7</td>\n",
              "      <td>1.83</td>\n",
              "      <td>166.0</td>\n",
              "      <td>156.0</td>\n",
              "      <td>73.0</td>\n",
              "      <td>1.00</td>\n",
              "      <td>833.0</td>\n",
              "      <td>Strength</td>\n",
              "      <td>27.9</td>\n",
              "      <td>2.8</td>\n",
              "      <td>5.0</td>\n",
              "      <td>2.0</td>\n",
              "      <td>33.49</td>\n",
              "      <td>93.0</td>\n",
              "    </tr>\n",
              "    <tr>\n",
              "      <th>2</th>\n",
              "      <td>22.0</td>\n",
              "      <td>Male</td>\n",
              "      <td>64.8</td>\n",
              "      <td>1.85</td>\n",
              "      <td>187.0</td>\n",
              "      <td>166.0</td>\n",
              "      <td>64.0</td>\n",
              "      <td>1.24</td>\n",
              "      <td>1678.0</td>\n",
              "      <td>Cardio</td>\n",
              "      <td>28.7</td>\n",
              "      <td>1.9</td>\n",
              "      <td>3.0</td>\n",
              "      <td>2.0</td>\n",
              "      <td>12.73</td>\n",
              "      <td>123.0</td>\n",
              "    </tr>\n",
              "    <tr>\n",
              "      <th>3</th>\n",
              "      <td>54.0</td>\n",
              "      <td>Female</td>\n",
              "      <td>75.3</td>\n",
              "      <td>1.82</td>\n",
              "      <td>187.0</td>\n",
              "      <td>169.0</td>\n",
              "      <td>58.0</td>\n",
              "      <td>1.45</td>\n",
              "      <td>628.0</td>\n",
              "      <td>Cardio</td>\n",
              "      <td>31.8</td>\n",
              "      <td>2.4</td>\n",
              "      <td>4.0</td>\n",
              "      <td>1.0</td>\n",
              "      <td>20.37</td>\n",
              "      <td>129.0</td>\n",
              "    </tr>\n",
              "    <tr>\n",
              "      <th>4</th>\n",
              "      <td>34.0</td>\n",
              "      <td>Female</td>\n",
              "      <td>52.8</td>\n",
              "      <td>1.74</td>\n",
              "      <td>177.0</td>\n",
              "      <td>169.0</td>\n",
              "      <td>66.0</td>\n",
              "      <td>1.60</td>\n",
              "      <td>1286.0</td>\n",
              "      <td>Strength</td>\n",
              "      <td>26.4</td>\n",
              "      <td>3.2</td>\n",
              "      <td>4.0</td>\n",
              "      <td>2.0</td>\n",
              "      <td>20.83</td>\n",
              "      <td>111.0</td>\n",
              "    </tr>\n",
              "  </tbody>\n",
              "</table>\n",
              "</div>"
            ],
            "text/plain": [
              "    Age  Gender  Weight (kg)  Height (m)  Max_BPM  Avg_BPM  Resting_BPM  \\\n",
              "0  34.0  Female         86.7        1.86    174.0    152.0         74.0   \n",
              "1  26.0  Female         84.7        1.83    166.0    156.0         73.0   \n",
              "2  22.0    Male         64.8        1.85    187.0    166.0         64.0   \n",
              "3  54.0  Female         75.3        1.82    187.0    169.0         58.0   \n",
              "4  34.0  Female         52.8        1.74    177.0    169.0         66.0   \n",
              "\n",
              "   Session_Duration (hours)  Calories_Burned Workout_Type  Fat_Percentage  \\\n",
              "0                      1.12            712.0     Strength            12.8   \n",
              "1                      1.00            833.0     Strength            27.9   \n",
              "2                      1.24           1678.0       Cardio            28.7   \n",
              "3                      1.45            628.0       Cardio            31.8   \n",
              "4                      1.60           1286.0     Strength            26.4   \n",
              "\n",
              "   Water_Intake (liters)  Workout_Frequency (days/week)  Experience_Level  \\\n",
              "0                    2.4                            5.0               2.0   \n",
              "1                    2.8                            5.0               2.0   \n",
              "2                    1.9                            3.0               2.0   \n",
              "3                    2.4                            4.0               1.0   \n",
              "4                    3.2                            4.0               2.0   \n",
              "\n",
              "     BMI  Heart_rate_range  \n",
              "0  14.31             100.0  \n",
              "1  33.49              93.0  \n",
              "2  12.73             123.0  \n",
              "3  20.37             129.0  \n",
              "4  20.83             111.0  "
            ]
          },
          "metadata": {},
          "output_type": "display_data"
        }
      ],
      "source": [
        "df['Max_BPM'] = pd.to_numeric(df['Max_BPM'], errors='coerce')\n",
        "Heart_rate_range = df['Max_BPM'] - df['Resting_BPM']\n",
        "df['Heart_rate_range'] = Heart_rate_range\n",
        "display(df.head())"
      ]
    },
    {
      "cell_type": "code",
      "execution_count": 34,
      "metadata": {
        "colab": {
          "base_uri": "https://localhost:8080/",
          "height": 243
        },
        "id": "EblP0kdi64OI",
        "outputId": "cbd35ce4-5074-43da-c08e-c760c71616bf"
      },
      "outputs": [
        {
          "data": {
            "text/html": [
              "<div>\n",
              "<style scoped>\n",
              "    .dataframe tbody tr th:only-of-type {\n",
              "        vertical-align: middle;\n",
              "    }\n",
              "\n",
              "    .dataframe tbody tr th {\n",
              "        vertical-align: top;\n",
              "    }\n",
              "\n",
              "    .dataframe thead th {\n",
              "        text-align: right;\n",
              "    }\n",
              "</style>\n",
              "<table border=\"1\" class=\"dataframe\">\n",
              "  <thead>\n",
              "    <tr style=\"text-align: right;\">\n",
              "      <th></th>\n",
              "      <th>Age</th>\n",
              "      <th>Gender</th>\n",
              "      <th>Weight (kg)</th>\n",
              "      <th>Height (m)</th>\n",
              "      <th>Max_BPM</th>\n",
              "      <th>Avg_BPM</th>\n",
              "      <th>Resting_BPM</th>\n",
              "      <th>Session_Duration (hours)</th>\n",
              "      <th>Calories_Burned</th>\n",
              "      <th>Workout_Type</th>\n",
              "      <th>Fat_Percentage</th>\n",
              "      <th>Water_Intake (liters)</th>\n",
              "      <th>Workout_Frequency (days/week)</th>\n",
              "      <th>Experience_Level</th>\n",
              "      <th>BMI</th>\n",
              "      <th>Heart_rate_range</th>\n",
              "      <th>Calories_per_hour</th>\n",
              "    </tr>\n",
              "  </thead>\n",
              "  <tbody>\n",
              "    <tr>\n",
              "      <th>0</th>\n",
              "      <td>34.0</td>\n",
              "      <td>Female</td>\n",
              "      <td>86.7</td>\n",
              "      <td>1.86</td>\n",
              "      <td>174.0</td>\n",
              "      <td>152.0</td>\n",
              "      <td>74.0</td>\n",
              "      <td>1.12</td>\n",
              "      <td>712.0</td>\n",
              "      <td>Strength</td>\n",
              "      <td>12.8</td>\n",
              "      <td>2.4</td>\n",
              "      <td>5.0</td>\n",
              "      <td>2.0</td>\n",
              "      <td>14.31</td>\n",
              "      <td>100.0</td>\n",
              "      <td>635.714286</td>\n",
              "    </tr>\n",
              "    <tr>\n",
              "      <th>1</th>\n",
              "      <td>26.0</td>\n",
              "      <td>Female</td>\n",
              "      <td>84.7</td>\n",
              "      <td>1.83</td>\n",
              "      <td>166.0</td>\n",
              "      <td>156.0</td>\n",
              "      <td>73.0</td>\n",
              "      <td>1.00</td>\n",
              "      <td>833.0</td>\n",
              "      <td>Strength</td>\n",
              "      <td>27.9</td>\n",
              "      <td>2.8</td>\n",
              "      <td>5.0</td>\n",
              "      <td>2.0</td>\n",
              "      <td>33.49</td>\n",
              "      <td>93.0</td>\n",
              "      <td>833.000000</td>\n",
              "    </tr>\n",
              "    <tr>\n",
              "      <th>2</th>\n",
              "      <td>22.0</td>\n",
              "      <td>Male</td>\n",
              "      <td>64.8</td>\n",
              "      <td>1.85</td>\n",
              "      <td>187.0</td>\n",
              "      <td>166.0</td>\n",
              "      <td>64.0</td>\n",
              "      <td>1.24</td>\n",
              "      <td>1678.0</td>\n",
              "      <td>Cardio</td>\n",
              "      <td>28.7</td>\n",
              "      <td>1.9</td>\n",
              "      <td>3.0</td>\n",
              "      <td>2.0</td>\n",
              "      <td>12.73</td>\n",
              "      <td>123.0</td>\n",
              "      <td>1353.225806</td>\n",
              "    </tr>\n",
              "    <tr>\n",
              "      <th>3</th>\n",
              "      <td>54.0</td>\n",
              "      <td>Female</td>\n",
              "      <td>75.3</td>\n",
              "      <td>1.82</td>\n",
              "      <td>187.0</td>\n",
              "      <td>169.0</td>\n",
              "      <td>58.0</td>\n",
              "      <td>1.45</td>\n",
              "      <td>628.0</td>\n",
              "      <td>Cardio</td>\n",
              "      <td>31.8</td>\n",
              "      <td>2.4</td>\n",
              "      <td>4.0</td>\n",
              "      <td>1.0</td>\n",
              "      <td>20.37</td>\n",
              "      <td>129.0</td>\n",
              "      <td>433.103448</td>\n",
              "    </tr>\n",
              "    <tr>\n",
              "      <th>4</th>\n",
              "      <td>34.0</td>\n",
              "      <td>Female</td>\n",
              "      <td>52.8</td>\n",
              "      <td>1.74</td>\n",
              "      <td>177.0</td>\n",
              "      <td>169.0</td>\n",
              "      <td>66.0</td>\n",
              "      <td>1.60</td>\n",
              "      <td>1286.0</td>\n",
              "      <td>Strength</td>\n",
              "      <td>26.4</td>\n",
              "      <td>3.2</td>\n",
              "      <td>4.0</td>\n",
              "      <td>2.0</td>\n",
              "      <td>20.83</td>\n",
              "      <td>111.0</td>\n",
              "      <td>803.750000</td>\n",
              "    </tr>\n",
              "  </tbody>\n",
              "</table>\n",
              "</div>"
            ],
            "text/plain": [
              "    Age  Gender  Weight (kg)  Height (m)  Max_BPM  Avg_BPM  Resting_BPM  \\\n",
              "0  34.0  Female         86.7        1.86    174.0    152.0         74.0   \n",
              "1  26.0  Female         84.7        1.83    166.0    156.0         73.0   \n",
              "2  22.0    Male         64.8        1.85    187.0    166.0         64.0   \n",
              "3  54.0  Female         75.3        1.82    187.0    169.0         58.0   \n",
              "4  34.0  Female         52.8        1.74    177.0    169.0         66.0   \n",
              "\n",
              "   Session_Duration (hours)  Calories_Burned Workout_Type  Fat_Percentage  \\\n",
              "0                      1.12            712.0     Strength            12.8   \n",
              "1                      1.00            833.0     Strength            27.9   \n",
              "2                      1.24           1678.0       Cardio            28.7   \n",
              "3                      1.45            628.0       Cardio            31.8   \n",
              "4                      1.60           1286.0     Strength            26.4   \n",
              "\n",
              "   Water_Intake (liters)  Workout_Frequency (days/week)  Experience_Level  \\\n",
              "0                    2.4                            5.0               2.0   \n",
              "1                    2.8                            5.0               2.0   \n",
              "2                    1.9                            3.0               2.0   \n",
              "3                    2.4                            4.0               1.0   \n",
              "4                    3.2                            4.0               2.0   \n",
              "\n",
              "     BMI  Heart_rate_range  Calories_per_hour  \n",
              "0  14.31             100.0         635.714286  \n",
              "1  33.49              93.0         833.000000  \n",
              "2  12.73             123.0        1353.225806  \n",
              "3  20.37             129.0         433.103448  \n",
              "4  20.83             111.0         803.750000  "
            ]
          },
          "metadata": {},
          "output_type": "display_data"
        }
      ],
      "source": [
        "Calories_per_hour = df['Calories_Burned'] / df['Session_Duration (hours)']\n",
        "df['Calories_per_hour'] = Calories_per_hour\n",
        "display(df.head())"
      ]
    },
    {
      "cell_type": "markdown",
      "metadata": {
        "id": "yjFamM_R7Mph"
      },
      "source": [
        "outliers"
      ]
    },
    {
      "cell_type": "code",
      "execution_count": 35,
      "metadata": {
        "colab": {
          "base_uri": "https://localhost:8080/",
          "height": 430
        },
        "id": "O48w1Nj47Fj5",
        "outputId": "2e63ddb9-e933-4eda-b890-476ad732db45"
      },
      "outputs": [
        {
          "data": {
            "image/png": "[encoded data removed]",
            "text/plain": [
              "<Figure size 640x480 with 1 Axes>"
            ]
          },
          "metadata": {},
          "output_type": "display_data"
        }
      ],
      "source": [
        "plt.boxplot(df[\"BMI\"])\n",
        "plt.show()"
      ]
    },
    {
      "cell_type": "code",
      "execution_count": 36,
      "metadata": {
        "colab": {
          "base_uri": "https://localhost:8080/",
          "height": 430
        },
        "id": "GjZfUvMJ7PQJ",
        "outputId": "cdc4cb83-16ca-462f-8ee5-78183fd3bbc1"
      },
      "outputs": [
        {
          "data": {
            "image/png": "[encoded data removed]",
            "text/plain": [
              "<Figure size 640x480 with 1 Axes>"
            ]
          },
          "metadata": {},
          "output_type": "display_data"
        }
      ],
      "source": [
        "plt.boxplot(df[\"Calories_Burned\"])\n",
        "plt.show()"
      ]
    }
  ],
  "metadata": {
    "colab": {
      "provenance": []
    },
    "kernelspec": {
      "display_name": "Python (myvenv)",
      "language": "python",
      "name": "myvenv"
    },
    "language_info": {
      "codemirror_mode": {
        "name": "ipython",
        "version": 3
      },
      "file_extension": ".py",
      "mimetype": "text/x-python",
      "name": "python",
      "nbconvert_exporter": "python",
      "pygments_lexer": "ipython3",
      "version": "3.13.5"
    }
  },
  "nbformat": 4,
  "nbformat_minor": 0
}
